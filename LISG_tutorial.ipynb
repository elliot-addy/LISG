{
 "cells": [
  {
   "cell_type": "markdown",
   "id": "208b454d",
   "metadata": {},
   "source": [
    "# Introducing Lengthscale-Informed Sparse Grids\n",
    "\n",
    "Welcome to this tutorial aimed at constructing kernel interpolants (equivalently fitting Gaussian processes) in high dimensions using lengthscale-infomred sparse grids (LISGs). In this tutorial we will:\n",
    "- Construct a LISG design, subject to an assumed degree of lengthscale-anisotropy\n",
    "- Given a function, fit a separable Matern kernel interpolant using traing points in a LISG design\n",
    "- Perform some testing on a function with known anistropy. "
   ]
  },
  {
   "cell_type": "code",
   "execution_count": 9,
   "id": "50665f81",
   "metadata": {},
   "outputs": [],
   "source": [
    "# Import modules:\n",
    "import kernels\n",
    "import LISG\n",
    "import emulator"
   ]
  },
  {
   "cell_type": "markdown",
   "id": "27aeeee8",
   "metadata": {},
   "source": [
    "## Separable Matern kernels"
   ]
  },
  {
   "cell_type": "code",
   "execution_count": 11,
   "id": "386bb5e2",
   "metadata": {},
   "outputs": [
    {
     "data": {
      "text/plain": [
       "<itertools.product at 0x7fe68a1af380>"
      ]
     },
     "execution_count": 11,
     "metadata": {},
     "output_type": "execute_result"
    }
   ],
   "source": []
  },
  {
   "cell_type": "markdown",
   "id": "3de31c8d",
   "metadata": {},
   "source": [
    "## Constructing LISGs"
   ]
  },
  {
   "cell_type": "code",
   "execution_count": null,
   "id": "177c0c28",
   "metadata": {},
   "outputs": [],
   "source": []
  },
  {
   "cell_type": "markdown",
   "id": "d2d06150",
   "metadata": {},
   "source": [
    "## Fast Emulation"
   ]
  },
  {
   "cell_type": "code",
   "execution_count": null,
   "id": "b1589125",
   "metadata": {},
   "outputs": [],
   "source": []
  },
  {
   "cell_type": "markdown",
   "id": "e8e66d97",
   "metadata": {},
   "source": [
    "## Example"
   ]
  },
  {
   "cell_type": "code",
   "execution_count": null,
   "id": "8aab8de5",
   "metadata": {},
   "outputs": [],
   "source": []
  }
 ],
 "metadata": {
  "kernelspec": {
   "display_name": "Python 3 (ipykernel)",
   "language": "python",
   "name": "python3"
  },
  "language_info": {
   "codemirror_mode": {
    "name": "ipython",
    "version": 3
   },
   "file_extension": ".py",
   "mimetype": "text/x-python",
   "name": "python",
   "nbconvert_exporter": "python",
   "pygments_lexer": "ipython3",
   "version": "3.8.8"
  }
 },
 "nbformat": 4,
 "nbformat_minor": 5
}
